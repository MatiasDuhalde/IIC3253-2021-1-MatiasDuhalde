{
 "cells": [
  {
   "cell_type": "markdown",
   "metadata": {},
   "source": [
    "# Pregunta 2: Función de Hash MD5"
   ]
  },
  {
   "cell_type": "markdown",
   "metadata": {},
   "source": [
    "## Utils"
   ]
  },
  {
   "cell_type": "code",
   "execution_count": null,
   "metadata": {},
   "outputs": [],
   "source": [
    "from math import sin, floor\n",
    "\n",
    "def bit_not(n, numbits=32):\n",
    "    return (1 << numbits) - 1 - n\n",
    "\n",
    "def left_rotate(n, c, numbits=32):\n",
    "    n = n & bit_not(0,numbits)\n",
    "    return ((n << c) | (n >> (numbits - c))) & bit_not(0, numbits)\n",
    "\n",
    "def gen_shift_table():\n",
    "    return sum([\n",
    "        [7, 12, 17, 22] * 4,\n",
    "        [5, 9, 14, 20] * 4,\n",
    "        [4, 11, 16 ,23] * 4,\n",
    "        [6, 10, 15, 21] * 4\n",
    "    ], [])\n",
    "\n",
    "def gen_constants_table():\n",
    "    return [floor(2**32 * abs(sin(i + 1))) for i in range(64)]\n"
   ]
  },
  {
   "cell_type": "markdown",
   "metadata": {},
   "source": [
    "## `custom_md5` implementation"
   ]
  },
  {
   "cell_type": "code",
   "execution_count": null,
   "metadata": {},
   "outputs": [],
   "source": [
    "def custom_md5(m: str, h0: int = 137269462086865085541390238039692956790) -> str:\n",
    "    \"\"\"\n",
    "    Arguments:\n",
    "        m:  str - message\n",
    "        h0: int - initial constant H_0 (< 2**128)\n",
    "    Returns:\n",
    "        str - correct MD5 hash of m in hexadecimal format (digest)\n",
    "    \"\"\"\n",
    "    # Constants (in bytes)\n",
    "    DIGEST_SIZE = 128 // 8\n",
    "    BLOCK_SIZE = 512 // 8\n",
    "    LEN_LENGTH = 64 // 8\n",
    "\n",
    "    s = gen_shift_table()\n",
    "    K = gen_constants_table()\n",
    "\n",
    "    # Starting buffer values (note: bit_not(0) returns 0xFFFFFFFF)\n",
    "    A0, B0, C0, D0 = [(h0 >> 32*(3-i)) & bit_not(0) for i in range(4)]\n",
    "\n",
    "    # Padding\n",
    "    m_bits = bytearray(m, encoding='utf-8')\n",
    "    original_length = len(m_bits) * 8 # in bits\n",
    "    m_bits += b'\\x80'\n",
    "    while len(m_bits) % (BLOCK_SIZE) < (BLOCK_SIZE - LEN_LENGTH):\n",
    "        m_bits += b'\\x00'\n",
    "    # Asume message length < 2**64\n",
    "    m_bits += original_length.to_bytes(LEN_LENGTH, 'little')\n",
    "\n",
    "    for i in range(0, len(m_bits), BLOCK_SIZE):\n",
    "        M = [m_bits[i:i+BLOCK_SIZE][k:k+4] for k in range(0, BLOCK_SIZE, 4)]\n",
    "        A, B, C, D = A0, B0, C0, D0\n",
    "        for j in range(64):\n",
    "            if j < 16:\n",
    "                F = (B & C) | (bit_not(B) & D)\n",
    "                g = j\n",
    "            elif j < 32:\n",
    "                F = (D & B) | (bit_not(D) & C)\n",
    "                g = (5 * j + 1) % 16\n",
    "            elif j < 48:\n",
    "                F = B ^ C ^ D\n",
    "                g = (3 * j + 5) % 16\n",
    "            elif j < 64:\n",
    "                F = C ^ (B | bit_not(D))\n",
    "                g = (7 * j) % 16\n",
    "            F = F + A + K[j] + int.from_bytes(M[g], 'little')\n",
    "            A = D\n",
    "            D = C\n",
    "            C = B\n",
    "            B = (B + left_rotate(F, s[j])) & bit_not(0)\n",
    "        A0, B0, C0, D0 = (A0 + A) & bit_not(0), (B0 + B) & bit_not(0), (C0 + C) & bit_not(0), (D0 + D) & bit_not(0)\n",
    "\n",
    "    digest = (D0 << 96) + (C0 << 64) + (B0 << 32) + A0\n",
    "    return digest.to_bytes(DIGEST_SIZE, 'little').hex()\n"
   ]
  },
  {
   "cell_type": "markdown",
   "metadata": {},
   "source": [
    "## Testing"
   ]
  },
  {
   "cell_type": "code",
   "execution_count": null,
   "metadata": {},
   "outputs": [],
   "source": [
    "if __name__ == '__main__':\n",
    "    from hashlib import md5\n",
    "    example_string = \"The quick brown fox jumps over the lazy dog.\"*100\n",
    "    md5_output = md5(example_string.encode()).hexdigest()\n",
    "    custom_md5_output = custom_md5(example_string)\n",
    "    print(\"REAL MD5:\", md5_output)\n",
    "    print(\"CUSTOM MD5:\", custom_md5_output)\n",
    "    assert(md5_output == custom_md5_output)\n"
   ]
  }
 ],
 "metadata": {
  "kernelspec": {
   "display_name": "Python 3.9.4 64-bit",
   "name": "python394jvsc74a57bd0767d51c1340bd893661ea55ea3124f6de3c7a262a8b4abca0554b478b1e2ff90"
  },
  "language_info": {
   "codemirror_mode": {
    "name": "ipython",
    "version": 3
   },
   "file_extension": ".py",
   "mimetype": "text/x-python",
   "name": "python",
   "nbconvert_exporter": "python",
   "pygments_lexer": "ipython3",
   "version": "3.9.4"
  },
  "orig_nbformat": 3
 },
 "nbformat": 4,
 "nbformat_minor": 5
}