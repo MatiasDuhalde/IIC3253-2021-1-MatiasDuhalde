{
 "cells": [
  {
   "cell_type": "markdown",
   "metadata": {},
   "source": [
    "# Pregunta 3: Break Random OTP\n",
    "\n",
    "### Desafíos:\n",
    "\n",
    "**De dónde se obtuvieron estos mensajes?**\n",
    "\n",
    "Parecieran haberse obtenido de la novela 1984 de George Orwell\n",
    "\n",
    "**Podremos escuchar los canales de otras personas **sin** pedirles su correo ni número de alumno?**\n",
    "\n",
    "El algoritmo usado en este notebook probablemente no podría hacerlo, debido a que al intentar separar los mensajes encriptados según las llaves que usaron, habrían muchas \"colisiones\", debido a que mi algoritmo se basa en tomar aquellos pares de mensajes que al hacerles un XOR cumplan cierta condición. Habría que mejorar esta condición con un sistema más complejo e inteligente. A pesar de lo anterior, todo es posible usando fuerza bruta :D"
   ]
  },
  {
   "cell_type": "markdown",
   "metadata": {},
   "source": [
    "## Import `custom_md5` (Pregunta 2)\n",
    "Nota: Este módulo requiere importar la funcíon `custom_md5` desde el notebook de la pregunta 2 `pregunta2.ipynb`"
   ]
  },
  {
   "cell_type": "code",
   "execution_count": null,
   "metadata": {},
   "outputs": [],
   "source": [
    "# Importar desde jupyter\n",
    "# %run '../Pregunta 2/pregunta2.ipynb'\n",
    "# Importar como script\n",
    "from pregunta2 import custom_md5"
   ]
  },
  {
   "cell_type": "markdown",
   "metadata": {},
   "source": [
    "## Utils"
   ]
  },
  {
   "cell_type": "markdown",
   "metadata": {},
   "source": [
    "### Message loading utils"
   ]
  },
  {
   "cell_type": "code",
   "execution_count": null,
   "metadata": {},
   "outputs": [],
   "source": [
    "def load_messages(path):\n",
    "    \"\"\"\n",
    "    Loads messages from file.\n",
    "    Returns dictionary { md5_digest : binary_string }\n",
    "    \"\"\"\n",
    "    with open(path, 'r', encoding='utf-8') as messages_file:\n",
    "        messages = dict()\n",
    "        for line in messages_file:\n",
    "            md5_hash, encoded_message = line.rstrip('\\n').split(',')\n",
    "            md5_hash, encoded_message = md5_hash.strip('\"'),  encoded_message.strip('\"')\n",
    "            messages[md5_hash] = encoded_message\n",
    "    return messages\n",
    "\n",
    "def find_channel_messages(messages, email, n_alumno):\n",
    "    \"\"\"\n",
    "    Extract messages using the same key from messages dictionary.\n",
    "    Returns list of ordered binary strings\n",
    "    \"\"\"\n",
    "    channel_messages = list()\n",
    "    current_message_index = 0\n",
    "    md5_hash = custom_md5(email, n_alumno * 100 + current_message_index)\n",
    "    try:\n",
    "        while True:\n",
    "            message = messages[md5_hash]\n",
    "            channel_messages.append(message)\n",
    "            current_message_index += 1\n",
    "            md5_hash = custom_md5(email, n_alumno * 100 + current_message_index)\n",
    "    except KeyError:\n",
    "        print(\"Could not find message with md5\", md5_hash)\n",
    "        print(\"Messages found =\", current_message_index)\n",
    "    return channel_messages\n"
   ]
  },
  {
   "cell_type": "markdown",
   "metadata": {},
   "source": [
    "### OTP Breaking utils\n",
    "Algunas de las funciones a continuación fueron basadas en aquellas mostradas en la clase de OTP por el profesor Martín, disponibles en el [repositorio del curso](https://github.com/UC-IIC3253/2021/tree/main/src/otp)."
   ]
  },
  {
   "cell_type": "code",
   "execution_count": null,
   "metadata": {},
   "outputs": [],
   "source": [
    "def encode_binary(string_):\n",
    "    \"\"\"\n",
    "    Receives a binary string.\n",
    "    Returns string with characters represented by binary numbers\n",
    "    \"\"\"\n",
    "    output = b\"\"\n",
    "    for i in range(0, len(string_), 8):\n",
    "        output += bytes(chr(int(string_[i:i+8], 2)), encoding=\"ASCII\")\n",
    "    return output\n",
    "\n",
    "def string_to_ints(string_):\n",
    "    \"\"\"\n",
    "    Receives a bytestring.\n",
    "    Returns list of integers representing the character value\n",
    "    \"\"\"\n",
    "    return tuple(c for c in string_)\n",
    "\n",
    "def ints_to_string(tup):\n",
    "    return \"\".join(chr(x) for x in tup)\n",
    "\n",
    "def int_tuple_xor(t1, t2):\n",
    "    return tuple(t1[i] ^ t2[i] for i in range(len(t1)))\n",
    "\n",
    "def probable_space_count_vector(messages, picked_message):\n",
    "    vector = [0] * len(picked_message)\n",
    "    for m in messages:\n",
    "        res_xor = int_tuple_xor(picked_message, m)\n",
    "        for i, c in enumerate(res_xor):\n",
    "            if c >= 64:\n",
    "                vector[i] += 1\n",
    "    return tuple(round(x / len(messages), 4) for x in vector)\n",
    "\n",
    "def probable_space_count_matrix(messages):\n",
    "    probable_space_count_matrix = []\n",
    "    for m in messages:\n",
    "        probable_space_count_matrix.append(probable_space_count_vector(messages, m))\n",
    "    return probable_space_count_matrix\n",
    "\n",
    "def get_max_index_vector(matrix):\n",
    "    vector = []\n",
    "    matrix = list(zip(*matrix))\n",
    "    for a in matrix:\n",
    "        vector.append(a.index(max(a)))\n",
    "    return vector\n",
    "\n",
    "def count_over_64(tup):\n",
    "    count = 0\n",
    "    for i in tup:\n",
    "        if i >= 64:\n",
    "            count += 1\n",
    "    return count\n"
   ]
  },
  {
   "cell_type": "markdown",
   "metadata": {},
   "source": [
    "## `break_random_otp` implementation\n",
    "\n",
    "### Notas ASCII:\n",
    "Number | Character\n",
    "--- | ---\n",
    "32 | `Space`\n",
    "33 | `!`\n",
    "39 | `'`\n",
    "40 | `(`\n",
    "41 | `)`\n",
    "44 | `,`\n",
    "45 | `-`\n",
    "46 | `.`\n",
    "48-57 | `0-9`\n",
    "58 | `:`\n",
    "59 | `;`\n",
    "63| `?`\n",
    "64 | `@`\n",
    "65-90 | `A-Z`\n",
    "97-122 | `a-z`"
   ]
  },
  {
   "cell_type": "code",
   "execution_count": null,
   "metadata": {},
   "outputs": [],
   "source": [
    "valid_chars = \" !'(),-.0123456789:;?@ABCDEFGHIJKLMNOPQRSTUVWXYZabcdefghijklmnopqrstuvwxyz\"\n",
    "# TODO: Luego de definir una key, revisar cada mensaje de possible_mates en ese index\n",
    "# y sacar de la lista aquellos que decodificados con la key no tienen un caracter en dicha posición\n",
    "# que no pertenezca a valid_chars\n",
    "\n",
    "# TODO: Idea: variable threshold\n",
    "\n",
    "def break_random_otp(encrypted_messages: [str]) -> {str: list[str]}:\n",
    "    \"\"\"\n",
    "    Arguments:\n",
    "        encrypted_messages:  str - encrypted messages list.\n",
    "    Returns:\n",
    "        {str: list[str]} - dictionary mapping a key to all the decrypted messages that\n",
    "            were originally encrypted with that key.\n",
    "    \"\"\"\n",
    "    int_result_dict = {}\n",
    "    result_dict = {}\n",
    "    # If input is empty, return empty dict\n",
    "    if not encrypted_messages:\n",
    "        return result_dict\n",
    "    # Transform binary strings into int tuples representing each byte value\n",
    "    int_encrypted_messages = list(map(lambda m: string_to_ints(encode_binary(m)), encrypted_messages))\n",
    "    # Main loop\n",
    "    while int_encrypted_messages:\n",
    "        # Pick message\n",
    "        m1 = int_encrypted_messages[0]\n",
    "        # Get the rest of the messages that may have been encrypted with the same key (possible mates)\n",
    "        possible_mates = []\n",
    "        for m2 in int_encrypted_messages:\n",
    "            if m2 not in possible_mates:\n",
    "                if count_over_64(int_tuple_xor(m1, m2)) <= 4:\n",
    "                    add_m2 = True\n",
    "                    for m3 in possible_mates:\n",
    "                        if count_over_64(int_tuple_xor(m3, m2)) > 4:\n",
    "                            add_m2 = False\n",
    "                    if add_m2:\n",
    "                        possible_mates.append(m2)\n",
    "        for m in possible_mates:\n",
    "            int_encrypted_messages.remove(m)\n",
    "        # Define vector to store possible key\n",
    "        current_key_vector = [(0, 0)] * len(m1)\n",
    "        matrix = probable_space_count_matrix(possible_mates)\n",
    "        max_vector = get_max_index_vector(matrix)\n",
    "        # Loop once for every \"slot\" in the key\n",
    "        current_key = []\n",
    "        for i in range(len(max_vector)):\n",
    "            current_key.append(possible_mates[max_vector[i]][i] ^ 32)\n",
    "        int_result_dict[tuple(current_key)] = possible_mates[:]\n",
    "    for key in int_result_dict:\n",
    "        decrypted_messages = [ints_to_string(int_tuple_xor(key, m)) for m in int_result_dict[key]]\n",
    "        result_dict[ints_to_string(key)] = decrypted_messages\n",
    "    return result_dict\n"
   ]
  },
  {
   "cell_type": "markdown",
   "metadata": {},
   "source": [
    "## Testing"
   ]
  },
  {
   "cell_type": "code",
   "execution_count": null,
   "metadata": {},
   "outputs": [],
   "source": [
    "if __name__ == \"__main__\":\n",
    "    file_path = 'mensajes_pregunta_3/mensajes_p3.csv'\n",
    "    email = 'matias.duhalde@uc.cl'\n",
    "    n_alumno = 18639496\n",
    "\n",
    "    messages = load_messages(file_path)\n",
    "    out = find_channel_messages(messages, email, n_alumno)\n",
    "    result = break_random_otp(out)\n",
    "    for key in result:\n",
    "        print(\"KEY:\", repr(key))\n",
    "        for message in result[key]:\n",
    "            print(repr(message))"
   ]
  },
  {
   "cell_type": "markdown",
   "metadata": {},
   "source": [
    "### Manual testing"
   ]
  },
  {
   "cell_type": "code",
   "execution_count": null,
   "metadata": {},
   "outputs": [],
   "source": [
    "if __name__ == \"__main__\":\n",
    "    messages = load_messages(file_path)\n",
    "    out = find_channel_messages(messages, email, n_alumno)\n",
    "    int_encrypted_messages = list(map(lambda m: string_to_ints(encode_binary(m)), out))\n",
    "    m1 = int_encrypted_messages[0]\n",
    "    possible_mates = []\n",
    "    for m2 in int_encrypted_messages:\n",
    "        if m2 not in possible_mates:\n",
    "            if count_over_64(int_tuple_xor(m1, m2)) <= 4:\n",
    "                add_m2 = True\n",
    "                for m3 in possible_mates:\n",
    "                    if count_over_64(int_tuple_xor(m3, m2)) > 4:\n",
    "                        add_m2 = False\n",
    "                if add_m2:\n",
    "                    possible_mates.append(m2)\n",
    "\n",
    "    a = probable_space_count_matrix(possible_mates)\n",
    "    for i in range(len(a)):\n",
    "        for j in range(len(a[i])):\n",
    "            print((a[i][j], f\"{possible_mates[i][j]:03}\"), end=\"\")\n",
    "        print()\n",
    "    current_key = [25 ^ 32, 116 ^ 32, 87 ^ 32, 14 ^ 32, 71 ^ 32, 81 ^ 32, 0 ^ 32, 101 ^ 32, 93 ^ 32, 48 ^ 32]\n",
    "    decrypted_messages = [ints_to_string(int_tuple_xor(current_key, m)) for m in possible_mates]\n",
    "\n",
    "    for k in decrypted_messages:\n",
    "        print(repr(k))"
   ]
  },
  {
   "cell_type": "code",
   "execution_count": null,
   "metadata": {},
   "outputs": [],
   "source": []
  }
 ],
 "metadata": {
  "interpreter": {
   "hash": "767d51c1340bd893661ea55ea3124f6de3c7a262a8b4abca0554b478b1e2ff90"
  },
  "kernelspec": {
   "display_name": "Python 3.9.4 64-bit",
   "name": "python3"
  },
  "language_info": {
   "codemirror_mode": {
    "name": "ipython",
    "version": 3
   },
   "file_extension": ".py",
   "mimetype": "text/x-python",
   "name": "python",
   "nbconvert_exporter": "python",
   "pygments_lexer": "ipython3",
   "version": "3.9.4"
  },
  "orig_nbformat": 2
 },
 "nbformat": 4,
 "nbformat_minor": 2
}