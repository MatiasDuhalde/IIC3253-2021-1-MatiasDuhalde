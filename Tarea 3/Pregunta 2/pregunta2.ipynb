{
 "cells": [
  {
   "cell_type": "markdown",
   "source": [
    "# Pregunta 2: Schnorr signature"
   ],
   "metadata": {}
  },
  {
   "cell_type": "markdown",
   "source": [
    "## Imports"
   ],
   "metadata": {}
  },
  {
   "cell_type": "code",
   "execution_count": 204,
   "source": [
    "import hashlib\n",
    "from random import randint, random"
   ],
   "outputs": [],
   "metadata": {}
  },
  {
   "cell_type": "markdown",
   "source": [
    "## Helper functions"
   ],
   "metadata": {}
  },
  {
   "cell_type": "code",
   "execution_count": 205,
   "source": [
    "# Functions extracted from T2\n",
    "# exp_mod modified to allow a negative exponent\n",
    "\n",
    "def exp_mod(a: int, b: int, n: int) -> int:\n",
    "    \"\"\"\n",
    "    Modular exponentation algorithm\n",
    "\n",
    "    Args:\n",
    "        a (int): number >= 0\n",
    "        b (int): number\n",
    "        n (int): number > 0\n",
    "\n",
    "    Returns:\n",
    "        int: a**b mod n\n",
    "    \"\"\"\n",
    "    a = a % n\n",
    "    if n == 1:\n",
    "        return 0\n",
    "    if b == 0:\n",
    "        return 1\n",
    "    if a == 0:\n",
    "        return 0\n",
    "    c = 1\n",
    "    if b < 0:\n",
    "        a = inverso(a, n)\n",
    "        b = -b\n",
    "    while b > 0:\n",
    "        if ((b % 2) != 0):\n",
    "            c = (c * a) % n\n",
    "        b //= 2\n",
    "        a = (a * a) % n\n",
    "    return c\n",
    "\n",
    "def alg_ext_euclides(a: int, b: int) -> tuple[int, int, int]:\n",
    "    \"\"\"\n",
    "    Extended euclidean algorithm\n",
    "\n",
    "    Args:\n",
    "        a (int): number > 0\n",
    "        b (int): a >= b >=\n",
    "\n",
    "    Returns:\n",
    "        tuple[int, int, int]: (GCD(a,b), s, t) greatest common divisor GCD(a, b) of a and b, and\n",
    "            integers s and t: MCD(a, b) = s*a + t*b\n",
    "    \"\"\"\n",
    "    # 1 and 0 are always going to be the factors of the last equations\n",
    "    s_prev, t_prev, = 1, 0,\n",
    "    s, t = 0, 1\n",
    "    while b != 0:\n",
    "        q = a // b\n",
    "        a, b = b, a % b\n",
    "        if b != 0:\n",
    "            s_prev, s = s, s_prev - q * s\n",
    "            t_prev, t = t, t_prev - q * t\n",
    "    return a, s, t\n",
    "\n",
    "def inverso(a: int, n: int) -> int:\n",
    "    \"\"\"\n",
    "    Modular inverse\n",
    "\n",
    "    Args:\n",
    "        a (int): number >= 1\n",
    "        n (int): number >= 2, relative prime of a\n",
    "\n",
    "    Returns:\n",
    "        int: modular inverse of a in mod n    \n",
    "    \"\"\"\n",
    "    x, y, _ = alg_ext_euclides(a, n)\n",
    "    if x == 1:\n",
    "        return y % n\n",
    "    return None\n"
   ],
   "outputs": [],
   "metadata": {}
  },
  {
   "cell_type": "markdown",
   "source": [
    "## Read files"
   ],
   "metadata": {}
  },
  {
   "cell_type": "code",
   "execution_count": 206,
   "source": [
    "def read_grupo(pathname=\"grupo.txt\"):\n",
    "    \"\"\"\n",
    "    Loads global constants p, g, and q from file\n",
    "\n",
    "    Arguments:\n",
    "        pathname (str): path to file\n",
    "\n",
    "    Returns:\n",
    "        tuple[int]: values p, g, and q extracted from file.\n",
    "    \"\"\"\n",
    "    with open(pathname, 'r') as grupo_file:\n",
    "        grupo = grupo_file.readlines()\n",
    "        p = int(grupo[0].strip(), 16)\n",
    "        g = int(grupo[1].strip(), 16)\n",
    "        q = int(grupo[2].strip(), 16)\n",
    "    return p, g, q\n",
    "\n",
    "def read_private_key(pathname=\"private_key.txt\"):\n",
    "    \"\"\"\n",
    "    Loads private key from file\n",
    "\n",
    "    Arguments:\n",
    "        pathname (str): path to file\n",
    "\n",
    "    Returns:\n",
    "        int: private key extracted from file.\n",
    "    \"\"\"\n",
    "    with open(pathname, 'r') as private_key_file:\n",
    "        private_key = int(private_key_file.readline().strip(), 16)\n",
    "    return private_key\n",
    "\n",
    "def read_public_key(pathname=\"public_key.txt\"):\n",
    "    \"\"\"\n",
    "    Loads public key from file\n",
    "\n",
    "    Arguments:\n",
    "        pathname (str): path to file\n",
    "\n",
    "    Returns:\n",
    "        int: public key extracted from file.\n",
    "    \"\"\"\n",
    "    with open(pathname, 'r') as public_key_file:\n",
    "        public_key = int(public_key_file.readline().strip(), 16)\n",
    "    return public_key\n"
   ],
   "outputs": [],
   "metadata": {}
  },
  {
   "cell_type": "markdown",
   "source": [
    "## Implementation"
   ],
   "metadata": {}
  },
  {
   "cell_type": "code",
   "execution_count": 207,
   "source": [
    "def generar_clave_ElGamal():\n",
    "    \"\"\"\n",
    "    Generates a public and private key with ElGamal protocol, with base values extracted from\n",
    "    grupo.txt file.\n",
    "\n",
    "    Stores the private key in private_key.txt file and the public key in public_key.txt file\n",
    "    \"\"\"\n",
    "    p, g, q = read_grupo()\n",
    "\n",
    "    # Generate the private key\n",
    "    x = randint(1, q - 1)\n",
    "    y = exp_mod(g, x, p)\n",
    "\n",
    "    # Output keys\n",
    "    with open('private_key.txt', 'w') as pk_file:\n",
    "        pk_file.write(hex(x)[2:].upper())\n",
    "    with open('public_key.txt', 'w') as sk_file:\n",
    "        sk_file.write(hex(y)[2:].upper())\n",
    "\n",
    "def firmar_Schnorr(m: str) -> tuple[int, int]:\n",
    "    \"\"\"\n",
    "    Signs a message with Schnorr protocol, using the private key stored in private_key.txt file, and\n",
    "    variables stored in grupo.txt file.\n",
    "\n",
    "    Arguments:\n",
    "        m (str): Message to be signed\n",
    "    \n",
    "    Returns:\n",
    "        tuple[int, int]: message Schnorr signature in the form of (e, s)\n",
    "    \"\"\"\n",
    "    p, g, q = read_grupo()\n",
    "    x = read_private_key()\n",
    "    k = randint(1, q - 1)\n",
    "\n",
    "    r = exp_mod(g, k, p)\n",
    "    e = md5(str(r) + m)\n",
    "    s = k - x * e\n",
    "    \n",
    "    return (e, s)\n",
    "\n",
    "def verificar_firma_Schnorr(m: str, firma: tuple[int, int]) -> bool:\n",
    "    \"\"\"\n",
    "    Verifies if a Schnorr signature corresponds to the specified message, using the public key\n",
    "    stored in public_key.txt file, and variables stored in grupo.txt file.\n",
    "\n",
    "    Arguments:\n",
    "        m (str): Message to be verified\n",
    "        firma (tuple[int,int]): Signature to be verified\n",
    "\n",
    "    Returns:\n",
    "        bool: True if the signature corresponds to the message, False otherwise\n",
    "    \"\"\"\n",
    "    p, g, _ = read_grupo()\n",
    "    e, s = firma\n",
    "    y = read_public_key()\n",
    "\n",
    "    r_prime = (exp_mod(g, s, p) * exp_mod(y, e, p)) % p\n",
    "    return md5(str(r_prime) + m) == e\n",
    "\n",
    "\n",
    "def md5(m: str) -> int:\n",
    "    \"\"\"\n",
    "    Hashes a message using md5 function\n",
    "\n",
    "    Arguments:\n",
    "        m (str): Message to be hashed\n",
    "\n",
    "    Returns:\n",
    "        int: Hash of the message in the form of int\n",
    "    \"\"\"\n",
    "    return int.from_bytes(hashlib.md5(bytes(m, 'utf-8')).digest(), 'big')\n"
   ],
   "outputs": [],
   "metadata": {}
  },
  {
   "cell_type": "markdown",
   "source": [
    "## Tests"
   ],
   "metadata": {}
  },
  {
   "cell_type": "markdown",
   "source": [
    "### Generate key"
   ],
   "metadata": {}
  },
  {
   "cell_type": "code",
   "execution_count": 208,
   "source": [
    "if __name__ == '__main__':\n",
    "    # Generate private_key.txt and public_key.txt\n",
    "    generar_clave_ElGamal()\n"
   ],
   "outputs": [],
   "metadata": {}
  },
  {
   "cell_type": "markdown",
   "source": [
    "### Single test"
   ],
   "metadata": {}
  },
  {
   "cell_type": "code",
   "execution_count": 209,
   "source": [
    "if __name__ == '__main__':\n",
    "    # Generate private_key.txt and public_key.txt\n",
    "    generar_clave_ElGamal()\n",
    "\n",
    "    # Firmar mensaje\n",
    "    test_message = \"Hola Mundo!\"\n",
    "    firma = firmar_Schnorr(test_message)\n",
    "\n",
    "    # Validar firma\n",
    "    resultado = verificar_firma_Schnorr(test_message, firma)\n",
    "    print(resultado)"
   ],
   "outputs": [
    {
     "output_type": "stream",
     "name": "stdout",
     "text": [
      "True\n"
     ]
    }
   ],
   "metadata": {}
  },
  {
   "cell_type": "markdown",
   "source": [
    "### Multi test"
   ],
   "metadata": {}
  },
  {
   "cell_type": "code",
   "execution_count": 210,
   "source": [
    "if __name__ == '__main__':\n",
    "    for i in range(1, 1000):\n",
    "        # Generate private_key.txt and public_key.txt\n",
    "        generar_clave_ElGamal()\n",
    "\n",
    "        # Generate random message \n",
    "        current_message = ''.join([chr(randint(0, 127)) for _ in range(randint(20, 10000))])\n",
    "\n",
    "        # Firmar mensaje\n",
    "        # Corromper firma con cierta probabilidad\n",
    "        if random() < 0.25:\n",
    "            integrity = False\n",
    "            # flip message\n",
    "            firma = firmar_Schnorr(current_message[::-1])\n",
    "        else:\n",
    "            integrity = True\n",
    "            firma = firmar_Schnorr(current_message)\n",
    "\n",
    "        # Validar firma\n",
    "        resultado = verificar_firma_Schnorr(current_message, firma)\n",
    "\n",
    "        assert(resultado == integrity)\n"
   ],
   "outputs": [],
   "metadata": {}
  }
 ],
 "metadata": {
  "interpreter": {
   "hash": "4e1d9a8909477db77738c33245c29c7265277ef753467dede8cf3f814cde494e"
  },
  "kernelspec": {
   "name": "python3",
   "display_name": "Python 3.9.6 64-bit"
  },
  "language_info": {
   "codemirror_mode": {
    "name": "ipython",
    "version": 3
   },
   "file_extension": ".py",
   "mimetype": "text/x-python",
   "name": "python",
   "nbconvert_exporter": "python",
   "pygments_lexer": "ipython3",
   "version": "3.9.6"
  },
  "orig_nbformat": 4
 },
 "nbformat": 4,
 "nbformat_minor": 2
}