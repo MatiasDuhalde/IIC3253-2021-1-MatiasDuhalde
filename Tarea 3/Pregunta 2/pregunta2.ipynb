{
 "cells": [
  {
   "cell_type": "markdown",
   "source": [
    "# Pregunta 2: Schnorr signature"
   ],
   "metadata": {}
  },
  {
   "cell_type": "markdown",
   "source": [
    "## Imports"
   ],
   "metadata": {}
  },
  {
   "cell_type": "code",
   "execution_count": 14,
   "source": [
    "import hashlib"
   ],
   "outputs": [],
   "metadata": {}
  },
  {
   "cell_type": "markdown",
   "source": [
    "## Helper functions"
   ],
   "metadata": {}
  },
  {
   "cell_type": "code",
   "execution_count": 15,
   "source": [
    "# Function extracted from T2\n",
    "\n",
    "def exp_mod(a: int, b: int, n: int) -> int:\n",
    "    \"\"\"\n",
    "    Modular exponentation algorithm\n",
    "\n",
    "    Args:\n",
    "        a (int): number >= 0\n",
    "        b (int): number >= 0\n",
    "        n (int): number > 0\n",
    "\n",
    "    Returns:\n",
    "        int: a**b mod n\n",
    "    \"\"\"\n",
    "    a = a % n\n",
    "    if n == 1:\n",
    "        return 0\n",
    "    if b == 0:\n",
    "        return 1\n",
    "    if a == 0:\n",
    "        return 0\n",
    "    c = 1\n",
    "    while b > 0:\n",
    "        if ((b % 2) != 0):\n",
    "            c = (c * a) % n\n",
    "        b //= 2\n",
    "        a = (a * a) % n\n",
    "    return c\n"
   ],
   "outputs": [],
   "metadata": {}
  },
  {
   "cell_type": "code",
   "execution_count": 16,
   "source": [
    "def read_grupo(pathname=\"grupo.txt\"):\n",
    "    \"\"\"\n",
    "    Loads global constants p, g, and q from file\n",
    "\n",
    "    Arguments:\n",
    "        pathname (str): path to file\n",
    "\n",
    "    Returns:\n",
    "        tuple[int]: values p, g, and q extracted from file.\n",
    "    \"\"\"\n",
    "    with open(pathname, 'r') as grupo_file:\n",
    "        grupo = grupo_file.readlines()\n",
    "        p = int(grupo[0].trim(), 16)\n",
    "        g = int(grupo[1].trim(), 16)\n",
    "        q = int(grupo[2].trim(), 16)\n",
    "    return p, g, q\n"
   ],
   "outputs": [],
   "metadata": {}
  },
  {
   "cell_type": "code",
   "execution_count": 19,
   "source": [
    "def generar_clave_ElGamal():\n",
    "    \"\"\"\n",
    "    Generates a public and private key with ElGamal protocol, with base values extracted from\n",
    "    grupo.txt file.\n",
    "\n",
    "    Stores the private key in private_key.txt file and the public key in public_key.txt file\n",
    "    \"\"\"\n",
    "    p, g, q = read_grupo()\n",
    "    pass\n",
    "\n",
    "def firmar_Schnorr(m: str) -> tuple[int, int]:\n",
    "    \"\"\"\n",
    "    Signs a message with Schnorr protocol, using the private key stored in private_key.txt file, and\n",
    "    variables stored in grupo.txt file.\n",
    "\n",
    "    Arguments:\n",
    "        m (str): Message to be signed\n",
    "    \n",
    "    Returns:\n",
    "        tuple[int, int]: message Schnorr signature in the form of (e, s)\n",
    "\n",
    "    \"\"\"\n",
    "    pass\n",
    "\n",
    "def verificar_firma_Schnorr(m: str, firma: tuple[int, int]) -> bool:\n",
    "    \"\"\"\n",
    "    \"\"\"\n",
    "    pass\n",
    "\n",
    "\n",
    "def md5(m: str) -> int:\n",
    "    \"\"\"\n",
    "    Hashes a message using md5 function\n",
    "\n",
    "    Arguments:\n",
    "        m (str): Message to be hashed\n",
    "\n",
    "    Returns:\n",
    "        int: Hash of the message in the form of int\n",
    "    \"\"\"\n",
    "    return int.from_bytes(hashlib.md5(bytes(m, 'utf-8')).digest(), 'big')\n"
   ],
   "outputs": [],
   "metadata": {}
  },
  {
   "cell_type": "code",
   "execution_count": 20,
   "source": [
    "exp_mod(g, q, p)\n",
    "md5(\"qweasdasdqwda\")"
   ],
   "outputs": [
    {
     "output_type": "execute_result",
     "data": {
      "text/plain": [
       "63196945924649378879387955663894122729"
      ]
     },
     "metadata": {},
     "execution_count": 20
    }
   ],
   "metadata": {}
  },
  {
   "cell_type": "code",
   "execution_count": null,
   "source": [],
   "outputs": [],
   "metadata": {}
  },
  {
   "cell_type": "markdown",
   "source": [
    "## Tests"
   ],
   "metadata": {}
  },
  {
   "cell_type": "markdown",
   "source": [
    "### Generate key"
   ],
   "metadata": {}
  },
  {
   "cell_type": "code",
   "execution_count": null,
   "source": [
    "if __name__ == \"__main__\":\n",
    "    pass"
   ],
   "outputs": [],
   "metadata": {}
  }
 ],
 "metadata": {
  "interpreter": {
   "hash": "4e1d9a8909477db77738c33245c29c7265277ef753467dede8cf3f814cde494e"
  },
  "kernelspec": {
   "name": "python3",
   "display_name": "Python 3.9.6 64-bit"
  },
  "language_info": {
   "codemirror_mode": {
    "name": "ipython",
    "version": 3
   },
   "file_extension": ".py",
   "mimetype": "text/x-python",
   "name": "python",
   "nbconvert_exporter": "python",
   "pygments_lexer": "ipython3",
   "version": "3.9.6"
  },
  "orig_nbformat": 4
 },
 "nbformat": 4,
 "nbformat_minor": 2
}