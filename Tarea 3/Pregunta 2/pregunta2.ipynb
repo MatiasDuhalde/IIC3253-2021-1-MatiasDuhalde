{
 "cells": [
  {
   "cell_type": "markdown",
   "source": [
    "# Pregunta 2: Schnorr signature"
   ],
   "metadata": {}
  },
  {
   "cell_type": "markdown",
   "source": [
    "## Imports"
   ],
   "metadata": {}
  },
  {
   "cell_type": "code",
   "execution_count": 2,
   "source": [
    "from hashlib import md5"
   ],
   "outputs": [],
   "metadata": {}
  },
  {
   "cell_type": "code",
   "execution_count": 4,
   "source": [
    "p_hex_string = \"87A8E61DB4B6663CFFBBD19C651959998CEEF608660DD0F25D2CEED4435E3B00E00DF8F1D61957D4FAF7DF4561B2AA3016C3D91134096FAA3BF4296D830E9A7C209E0C6497517ABD5A8A9D306BCF67ED91F9E6725B4758C022E0B1EF4275BF7B6C5BFC11D45F9088B941F54EB1E59BB8BC39A0BF12307F5C4FDB70C581B23F76B63ACAE1CAA6B7902D52526735488A0EF13C6D9A51BFA4AB3AD8347796524D8EF6A167B5A41825D967E144E5140564251CCACB83E6B486F6B3CA3F7971506026C0B857F689962856DED4010ABD0BE621C3A3960A54E710C375F26375D7014103A4B54330C198AF126116D2276E11715F693877FAD7EF09CADB094AE91E1A1597\"\n",
    "g_hex_string = \"3FB32C9B73134D0B2E77506660EDBD484CA7B18F21EF205407F4793A1A0BA12510DBC15077BE463FFF4FED4AAC0BB555BE3A6C1B0C6B47B1BC3773BF7E8C6F62901228F8C28CBB18A55AE31341000A650196F931C77A57F2DDF463E5E9EC144B777DE62AAAB8A8628AC376D282D6ED3864E67982428EBC831D14348F6F2F9193B5045AF2767164E1DFC967C1FB3F2E55A4BD1BFFE83B9C80D052B985D182EA0ADB2A3B7313D3FE14C8484B1E052588B9B7D2BBD2DF016199ECD06E1557CD0915B3353BBB64E0EC377FD028370DF92B52C7891428CDC67EB6184B523D1DB246C32F63078490F00EF8D647D148D47954515E2327CFEF98C582664B4C0F6CC41659\"\n",
    "q_hex_string = \"801C0D34C58D93FE997177101F80535A4738CEBCBF389A99B36371EB\"\n",
    "int(p_hex_string,16)\n",
    "int(g_hex_string,16)\n",
    "int(q_hex_string,16)"
   ],
   "outputs": [
    {
     "output_type": "error",
     "ename": "ValueError",
     "evalue": "invalid literal for int() with base 16: '801C0D34 C58D93FE 99717710 1F80535A 4738CEBC BF389A99 B36371EB'",
     "traceback": [
      "\u001b[0;31m---------------------------------------------------------------------------\u001b[0m",
      "\u001b[0;31mValueError\u001b[0m                                Traceback (most recent call last)",
      "\u001b[0;32m<ipython-input-4-95c62929c165>\u001b[0m in \u001b[0;36m<module>\u001b[0;34m\u001b[0m\n\u001b[1;32m      4\u001b[0m \u001b[0mint\u001b[0m\u001b[0;34m(\u001b[0m\u001b[0mp_hex_string\u001b[0m\u001b[0;34m,\u001b[0m\u001b[0;36m16\u001b[0m\u001b[0;34m)\u001b[0m\u001b[0;34m\u001b[0m\u001b[0;34m\u001b[0m\u001b[0m\n\u001b[1;32m      5\u001b[0m \u001b[0mint\u001b[0m\u001b[0;34m(\u001b[0m\u001b[0mg_hex_string\u001b[0m\u001b[0;34m,\u001b[0m\u001b[0;36m16\u001b[0m\u001b[0;34m)\u001b[0m\u001b[0;34m\u001b[0m\u001b[0;34m\u001b[0m\u001b[0m\n\u001b[0;32m----> 6\u001b[0;31m \u001b[0mint\u001b[0m\u001b[0;34m(\u001b[0m\u001b[0mq_hex_string\u001b[0m\u001b[0;34m,\u001b[0m\u001b[0;36m16\u001b[0m\u001b[0;34m)\u001b[0m\u001b[0;34m\u001b[0m\u001b[0;34m\u001b[0m\u001b[0m\n\u001b[0m",
      "\u001b[0;31mValueError\u001b[0m: invalid literal for int() with base 16: '801C0D34 C58D93FE 99717710 1F80535A 4738CEBC BF389A99 B36371EB'"
     ]
    }
   ],
   "metadata": {}
  },
  {
   "cell_type": "markdown",
   "source": [
    "## Test de primalidad de Rabin-Miller"
   ],
   "metadata": {}
  },
  {
   "cell_type": "code",
   "execution_count": null,
   "source": [],
   "outputs": [],
   "metadata": {}
  },
  {
   "cell_type": "code",
   "execution_count": 9,
   "source": [
    "md5(b'qweasdasd').digest()"
   ],
   "outputs": [
    {
     "output_type": "execute_result",
     "data": {
      "text/plain": [
       "b'\\xc7\\xd3\\xff\\x8c\\xeb\\xe1c\\x88\\xee4vk\\x9cwL\\xed'"
      ]
     },
     "metadata": {},
     "execution_count": 9
    }
   ],
   "metadata": {}
  },
  {
   "cell_type": "code",
   "execution_count": null,
   "source": [
    "def rabin_miller(n: int, k: int) -> bool:\n",
    "    \"\"\"\n",
    "    Determines if a number is prime using Rabin-Miller primality test\n",
    "\n",
    "    Args:\n",
    "        n (int): number >= 1 to test for primality\n",
    "        k (int): number >= 1, error threshold parameter\n",
    "\n",
    "    Returns:\n",
    "        bool: True if n is prime, False otherwise (with error probability <= 2**(-k))\n",
    "    \"\"\"\n",
    "    # 1 nor even numbers are prime\n",
    "    if n == 1 or n % 2 == 0:\n",
    "        return False\n",
    "    if n == 2 or n == 3:\n",
    "        return True\n",
    "    # Get r, d such that n == 2**r*d + 1\n",
    "    r = 0\n",
    "    d = n - 1\n",
    "    while d % 2 == 0:\n",
    "        d //= 2\n",
    "        r += 1\n",
    "\n",
    "    # WitnessLoop\n",
    "    for _ in range(k):\n",
    "        a = randint(2, n - 2)\n",
    "        x = exp_mod(a, d, n)\n",
    "        if x == 1 or x == n - 1:\n",
    "            continue\n",
    "        flag = True\n",
    "        for _ in range(r - 1):\n",
    "            x = exp_mod(x, 2, n)\n",
    "            if x == n - 1:\n",
    "                flag = False\n",
    "                break\n",
    "        if flag:\n",
    "            # Number is composite\n",
    "            return False\n",
    "    # Number may be prime (with error < 2**-k)\n",
    "    return True\n",
    "\n",
    "\n",
    "def generar_primo(l: int) -> int:\n",
    "    \"\"\"\n",
    "    Generates a random prime number with at least l digits.\n",
    "\n",
    "    Args:\n",
    "        l (int): number >= 1 minimum number of digits of prime number\n",
    "\n",
    "    Returns:\n",
    "        int: Prime number with at least l digits. Error probability must be <= 2**(-100)\n",
    "    \"\"\"\n",
    "    k = 10\n",
    "    for _ in range(l - 1):\n",
    "        k *= 10\n",
    "    low, high = k // 10, k\n",
    "    current_test = randint(low, high)\n",
    "    while not rabin_miller(current_test, 100):\n",
    "        current_test = randint(low, high)\n",
    "    return current_test\n"
   ],
   "outputs": [],
   "metadata": {}
  },
  {
   "cell_type": "markdown",
   "source": [
    "## Algoritmo extendido de euclides"
   ],
   "metadata": {}
  },
  {
   "cell_type": "code",
   "execution_count": null,
   "source": [
    "def alg_ext_euclides(a: int, b: int) -> tuple[int, int, int]:\n",
    "    \"\"\"\n",
    "    Extended euclidean algorithm\n",
    "\n",
    "    Args:\n",
    "        a (int): number > 0\n",
    "        b (int): a >= b >=\n",
    "\n",
    "    Returns:\n",
    "        tuple[int, int, int]: (GCD(a,b), s, t) greatest common divisor GCD(a, b) of a and b, and\n",
    "            integers s and t: MCD(a, b) = s*a + t*b\n",
    "    \"\"\"\n",
    "    # 1 and 0 are always going to be the factors of the last equations\n",
    "    s_prev, t_prev, = 1, 0,\n",
    "    s, t = 0, 1\n",
    "    while b != 0:\n",
    "        q = a // b\n",
    "        a, b = b, a % b\n",
    "        if b != 0:\n",
    "            s_prev, s = s, s_prev - q * s\n",
    "            t_prev, t = t, t_prev - q * t\n",
    "    return a, s, t\n"
   ],
   "outputs": [],
   "metadata": {}
  },
  {
   "cell_type": "markdown",
   "source": [
    "## Exponenciación rápida"
   ],
   "metadata": {}
  },
  {
   "cell_type": "code",
   "execution_count": null,
   "source": [
    "def exp_mod(a: int, b: int, n: int) -> int:\n",
    "    \"\"\"\n",
    "    Modular exponentation algorithm\n",
    "\n",
    "    Args:\n",
    "        a (int): number >= 0\n",
    "        b (int): number >= 0\n",
    "        n (int): number > 0\n",
    "\n",
    "    Returns:\n",
    "        int: a**b mod n\n",
    "    \"\"\"\n",
    "    a = a % n\n",
    "    if n == 1:\n",
    "        return 0\n",
    "    if b == 0:\n",
    "        return 1\n",
    "    if a == 0:\n",
    "        return 0\n",
    "    c = 1\n",
    "    while b > 0:\n",
    "        if ((b % 2) != 0):\n",
    "            c = (c * a) % n\n",
    "        b //= 2\n",
    "        a = (a * a) % n\n",
    "    return c\n"
   ],
   "outputs": [],
   "metadata": {}
  },
  {
   "cell_type": "markdown",
   "source": [
    "## Inverso  modular"
   ],
   "metadata": {}
  },
  {
   "cell_type": "code",
   "execution_count": null,
   "source": [
    "def inverso(a: int, n: int) -> int:\n",
    "    \"\"\"\n",
    "    Modular inverse\n",
    "\n",
    "    Args:\n",
    "        a (int): number >= 1\n",
    "        n (int): number >= 2, relative prime of a\n",
    "\n",
    "    Returns:\n",
    "        int: modular inverse of a in mod n    \n",
    "    \"\"\"\n",
    "    x, y, _ = alg_ext_euclides(a, n)\n",
    "    if x == 1:\n",
    "        return y % n\n",
    "    return None\n"
   ],
   "outputs": [],
   "metadata": {}
  },
  {
   "cell_type": "markdown",
   "source": [
    "## Generar clave "
   ],
   "metadata": {}
  },
  {
   "cell_type": "code",
   "execution_count": null,
   "source": [
    "def generar_clave(l: int):\n",
    "    \"\"\"\n",
    "    Build a public and private key of specific length.\n",
    "\n",
    "    Args:\n",
    "        l (int): length of keys to generate\n",
    "\n",
    "    Saves private key (d, N) and public key (e, N) in private_key.txt and public_key.txt\n",
    "    respectively, with the following format:\n",
    "        d\n",
    "        N\n",
    "    \"\"\"\n",
    "    # Generate primes\n",
    "    p, q = generar_primo(l//2 + 1), generar_primo(l//2 + 1)\n",
    "\n",
    "    # Get n and phi(n)\n",
    "    n = p * q\n",
    "    phi_n = (p - 1) * (q - 1)\n",
    "\n",
    "    # Get e, d\n",
    "    e = randint(2, phi_n - 1)\n",
    "    mcd, _, _ = alg_ext_euclides(e, phi_n)\n",
    "    while mcd != 1:\n",
    "        e = randint(2, phi_n - 1)\n",
    "        mcd, _, _ = alg_ext_euclides(e, phi_n)\n",
    "    d = inverso(e, phi_n)\n",
    "\n",
    "    # Store keys\n",
    "    with open('public_key.txt', 'w') as key_file:\n",
    "        key_file.write(f'{e}\\n{n}\\n')\n",
    "    with open('private_key.txt', 'w') as key_file:\n",
    "        key_file.write(f'{d}\\n{n}\\n')\n",
    "    return (e, n), (d, n)\n"
   ],
   "outputs": [],
   "metadata": {}
  },
  {
   "cell_type": "markdown",
   "source": [
    "## Encryption and decryption algorithms"
   ],
   "metadata": {}
  },
  {
   "cell_type": "code",
   "execution_count": null,
   "source": [
    "def enc(m: int) -> int:\n",
    "    \"\"\"\n",
    "    Encrypts a message m with public key stored in public_key.txt\n",
    "\n",
    "    Args:\n",
    "        m (int): 0 <= m <= N-1, message to encrypt\n",
    "\n",
    "    Returns:\n",
    "        int: m encrypted with public key (e, N)\n",
    "    \"\"\"\n",
    "    # Retrieve public key\n",
    "    with open('public_key.txt', 'r') as key_file:\n",
    "        lines = key_file.readlines()\n",
    "        e, n = tuple(int(s.strip()) for s in lines)\n",
    "    return exp_mod(m, e, n)\n",
    "\n",
    "\n",
    "def dec(m: int) -> int:\n",
    "    \"\"\"\n",
    "    Decrypts a message m with private key stored in private_key.txt\n",
    "\n",
    "    Args:\n",
    "        m (int): 0 <= m <= N-1, message to decrypt\n",
    "\n",
    "    Returns:\n",
    "        int: m decrypted with private key (d, N)\n",
    "    \"\"\"\n",
    "    with open('private_key.txt', 'r') as key_file:\n",
    "        lines = key_file.readlines()\n",
    "        d, n = tuple(int(s.strip()) for s in lines)\n",
    "    return exp_mod(m, d, n)\n"
   ],
   "outputs": [],
   "metadata": {}
  },
  {
   "cell_type": "markdown",
   "source": [
    "## Message to int"
   ],
   "metadata": {}
  },
  {
   "cell_type": "code",
   "execution_count": null,
   "source": [
    "def string_to_int(string_):\n",
    "    \"\"\"\n",
    "    Transform an ASCII string into its numeric representation\n",
    "\n",
    "    Args:\n",
    "        string_ (str): an ASCII string to transform\n",
    "    \n",
    "    Returns:\n",
    "        int: numeric representation of string_\n",
    "\n",
    "    \"\"\"\n",
    "    n = 0\n",
    "    for i, char in enumerate(string_):\n",
    "        n += ord(char) << (i*7)\n",
    "    return n\n",
    "\n",
    "def int_to_string(n):\n",
    "    \"\"\"\n",
    "    string_to_int inverse process\n",
    "    \"\"\"\n",
    "    string_ = \"\"\n",
    "    while n > 0:\n",
    "        string_ += chr(n & 0x7f)\n",
    "        n >>= 7\n",
    "    return string_"
   ],
   "outputs": [],
   "metadata": {}
  },
  {
   "cell_type": "markdown",
   "source": [
    "## Tests"
   ],
   "metadata": {}
  },
  {
   "cell_type": "markdown",
   "source": [
    "### Generate key"
   ],
   "metadata": {}
  },
  {
   "cell_type": "code",
   "execution_count": null,
   "source": [
    "if __name__ == \"__main__\":\n",
    "    from time import time\n",
    "    t_i = time()\n",
    "    generar_clave(300)\n",
    "    print(\"Time:\", time() - t_i)"
   ],
   "outputs": [],
   "metadata": {}
  },
  {
   "cell_type": "markdown",
   "source": [
    "### Encrypt and decrypt message"
   ],
   "metadata": {}
  },
  {
   "cell_type": "code",
   "execution_count": null,
   "source": [
    "if __name__ == \"__main__\":\n",
    "    message = \"Invisible Hollows are a new type of secret that was introduced in the Dark Souls 2: Scholar of the First Sin Edition. They become visible upon\"\n",
    "    cod_m = string_to_int(message)\n",
    "    len_cod_m = len(str(cod_m))\n",
    "    print(\"Message_length:\", len_cod_m)\n",
    "\n",
    "    encrypted = enc(cod_m)\n",
    "    decrypted = dec(encrypted)\n",
    "    dec_message = int_to_string(decrypted)\n",
    "\n",
    "    print(dec_message)\n",
    "    assert(dec_message == message)"
   ],
   "outputs": [],
   "metadata": {}
  }
 ],
 "metadata": {
  "interpreter": {
   "hash": "4e1d9a8909477db77738c33245c29c7265277ef753467dede8cf3f814cde494e"
  },
  "kernelspec": {
   "name": "python3",
   "display_name": "Python 3.9.6 64-bit"
  },
  "language_info": {
   "codemirror_mode": {
    "name": "ipython",
    "version": 3
   },
   "file_extension": ".py",
   "mimetype": "text/x-python",
   "name": "python",
   "nbconvert_exporter": "python",
   "pygments_lexer": "ipython3",
   "version": "3.9.6"
  },
  "orig_nbformat": 4
 },
 "nbformat": 4,
 "nbformat_minor": 2
}