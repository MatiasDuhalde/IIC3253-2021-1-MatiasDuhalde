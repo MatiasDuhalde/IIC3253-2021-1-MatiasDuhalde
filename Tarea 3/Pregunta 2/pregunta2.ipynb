{
 "cells": [
  {
   "cell_type": "markdown",
   "source": [
    "# Pregunta 2: Schnorr signature"
   ],
   "metadata": {}
  },
  {
   "cell_type": "markdown",
   "source": [
    "## Imports"
   ],
   "metadata": {}
  },
  {
   "cell_type": "code",
   "execution_count": 93,
   "source": [
    "import hashlib\n",
    "from random import randint"
   ],
   "outputs": [],
   "metadata": {}
  },
  {
   "cell_type": "markdown",
   "source": [
    "## Helper functions"
   ],
   "metadata": {}
  },
  {
   "cell_type": "code",
   "execution_count": 94,
   "source": [
    "# Function extracted from T2\n",
    "\n",
    "def exp_mod(a: int, b: int, n: int) -> int:\n",
    "    \"\"\"\n",
    "    Modular exponentation algorithm\n",
    "\n",
    "    Args:\n",
    "        a (int): number >= 0\n",
    "        b (int): number >= 0\n",
    "        n (int): number > 0\n",
    "\n",
    "    Returns:\n",
    "        int: a**b mod n\n",
    "    \"\"\"\n",
    "    a = a % n\n",
    "    if n == 1:\n",
    "        return 0\n",
    "    if b == 0:\n",
    "        return 1\n",
    "    if a == 0:\n",
    "        return 0\n",
    "    c = 1\n",
    "    while b > 0:\n",
    "        if ((b % 2) != 0):\n",
    "            c = (c * a) % n\n",
    "        b //= 2\n",
    "        a = (a * a) % n\n",
    "    return c\n"
   ],
   "outputs": [],
   "metadata": {}
  },
  {
   "cell_type": "markdown",
   "source": [
    "## Read files"
   ],
   "metadata": {}
  },
  {
   "cell_type": "code",
   "execution_count": 95,
   "source": [
    "def read_grupo(pathname=\"grupo.txt\"):\n",
    "    \"\"\"\n",
    "    Loads global constants p, g, and q from file\n",
    "\n",
    "    Arguments:\n",
    "        pathname (str): path to file\n",
    "\n",
    "    Returns:\n",
    "        tuple[int]: values p, g, and q extracted from file.\n",
    "    \"\"\"\n",
    "    with open(pathname, 'r') as grupo_file:\n",
    "        grupo = grupo_file.readlines()\n",
    "        p = int(grupo[0].strip(), 16)\n",
    "        g = int(grupo[1].strip(), 16)\n",
    "        q = int(grupo[2].strip(), 16)\n",
    "    return p, g, q\n",
    "\n",
    "def read_private_key(pathname=\"private_key.txt\"):\n",
    "    \"\"\"\n",
    "    Loads private key from file\n",
    "\n",
    "    Arguments:\n",
    "        pathname (str): path to file\n",
    "\n",
    "    Returns:\n",
    "        int: private key extracted from file.\n",
    "    \"\"\"\n",
    "    with open(pathname, 'r') as private_key_file:\n",
    "        private_key = int(private_key_file.readline().strip(), 16)\n",
    "    return private_key\n",
    "\n",
    "def read_public_key(pathname=\"public_key.txt\"):\n",
    "    \"\"\"\n",
    "    Loads public key from file\n",
    "\n",
    "    Arguments:\n",
    "        pathname (str): path to file\n",
    "\n",
    "    Returns:\n",
    "        int: public key extracted from file.\n",
    "    \"\"\"\n",
    "    with open(pathname, 'r') as public_key_file:\n",
    "        public_key = int(public_key_file.readline().strip(), 16)\n",
    "    return public_key\n"
   ],
   "outputs": [],
   "metadata": {}
  },
  {
   "cell_type": "markdown",
   "source": [
    "## Implementation"
   ],
   "metadata": {}
  },
  {
   "cell_type": "code",
   "execution_count": 91,
   "source": [
    "def generar_clave_ElGamal():\n",
    "    \"\"\"\n",
    "    Generates a public and private key with ElGamal protocol, with base values extracted from\n",
    "    grupo.txt file.\n",
    "\n",
    "    Stores the private key in private_key.txt file and the public key in public_key.txt file\n",
    "    \"\"\"\n",
    "    p, g, q = read_grupo()\n",
    "\n",
    "    # Generate the private key\n",
    "    x = randint(1, q - 1)\n",
    "    y = exp_mod(g, x, p)\n",
    "\n",
    "    # Output keys\n",
    "    with open('public_key.txt', 'w') as pk_file:\n",
    "        pk_file.write(hex(x)[2:].upper())\n",
    "    with open('private_key.txt', 'w') as sk_file:\n",
    "        sk_file.write(hex(y)[2:].upper())\n",
    "\n",
    "def firmar_Schnorr(m: str) -> tuple[int, int]:\n",
    "    \"\"\"\n",
    "    Signs a message with Schnorr protocol, using the private key stored in private_key.txt file, and\n",
    "    variables stored in grupo.txt file.\n",
    "\n",
    "    Arguments:\n",
    "        m (str): Message to be signed\n",
    "    \n",
    "    Returns:\n",
    "        tuple[int, int]: message Schnorr signature in the form of (e, s)\n",
    "    \"\"\"\n",
    "    p, g, q = read_grupo()\n",
    "    x = read_private_key()\n",
    "    k = randint(1, q - 1)\n",
    "\n",
    "    r = exp_mod(g, k, p)\n",
    "    e = md5(str(r) + m)\n",
    "    s = (k - x * e) % (p - 1)\n",
    "    \n",
    "    return (e, s)\n",
    "\n",
    "def verificar_firma_Schnorr(m: str, firma: tuple[int, int]) -> bool:\n",
    "    \"\"\"\n",
    "    Verifies if a Schnorr signature corresponds to the specified message, using the public key\n",
    "    stored in public_key.txt file, and variables stored in grupo.txt file.\n",
    "\n",
    "    Arguments:\n",
    "        m (str): Message to be verified\n",
    "        firma (tuple[int,int]): Signature to be verified\n",
    "\n",
    "    Returns:\n",
    "        bool: True if the signature corresponds to the message, False otherwise\n",
    "    \"\"\"\n",
    "    p, g, _ = read_grupo()\n",
    "    e, s = firma\n",
    "    y = read_public_key()\n",
    "\n",
    "    r_prime = (exp_mod(g, s, p) * exp_mod(y, e, p)) % p\n",
    "\n",
    "    return md5(str(r_prime) + m) == e\n",
    "\n",
    "\n",
    "def md5(m: str) -> int:\n",
    "    \"\"\"\n",
    "    Hashes a message using md5 function\n",
    "\n",
    "    Arguments:\n",
    "        m (str): Message to be hashed\n",
    "\n",
    "    Returns:\n",
    "        int: Hash of the message in the form of int\n",
    "    \"\"\"\n",
    "    return int.from_bytes(hashlib.md5(bytes(m, 'utf-8')).digest(), 'big')\n"
   ],
   "outputs": [],
   "metadata": {}
  },
  {
   "cell_type": "markdown",
   "source": [
    "## Tests"
   ],
   "metadata": {}
  },
  {
   "cell_type": "markdown",
   "source": [
    "### Generate key"
   ],
   "metadata": {}
  },
  {
   "cell_type": "code",
   "execution_count": 92,
   "source": [
    "if __name__ == \"__main__\":\n",
    "    # Generate private_key.txt and public_key.txt\n",
    "    generar_clave_ElGamal()\n",
    "\n",
    "    # Firmar mensaje\n",
    "    test_message = \"Hello world!\"\n",
    "    firma = firmar_Schnorr(test_message)\n",
    "    print(firma[0], '\\n')\n",
    "    print(firma[1], '\\n')\n",
    "\n",
    "    # Validar firma\n",
    "    resultado = verificar_firma_Schnorr(test_message, firma)\n",
    "    print(resultado)\n",
    "\n",
    "    "
   ],
   "outputs": [
    {
     "output_type": "stream",
     "name": "stdout",
     "text": [
      "114683320730021126149584038627947937835\n",
      "3878087035123457967346130535211700548448161168893280679007222504689215963468413375907648803583905051911208795508959011056339069010317285547134310968027481682290950181387280643671615370294984352711763635299562054524355736122807067757692456870862991268397103163296966970224692783845264245030886390072105785228281534179971184120696547334105965658609310918359781430200112752056039432339785501192501117691699109566818448927478030347872374231831889671837178435708054181885981691017609191792856839897640934318789915675743724139003276802025649702433879549324678749248864694602561752140779518891446783712953949743912869551591\n",
      "False\n"
     ]
    }
   ],
   "metadata": {}
  },
  {
   "cell_type": "code",
   "execution_count": null,
   "source": [],
   "outputs": [],
   "metadata": {}
  }
 ],
 "metadata": {
  "interpreter": {
   "hash": "4e1d9a8909477db77738c33245c29c7265277ef753467dede8cf3f814cde494e"
  },
  "kernelspec": {
   "name": "python3",
   "display_name": "Python 3.9.6 64-bit"
  },
  "language_info": {
   "codemirror_mode": {
    "name": "ipython",
    "version": 3
   },
   "file_extension": ".py",
   "mimetype": "text/x-python",
   "name": "python",
   "nbconvert_exporter": "python",
   "pygments_lexer": "ipython3",
   "version": "3.9.6"
  },
  "orig_nbformat": 4
 },
 "nbformat": 4,
 "nbformat_minor": 2
}