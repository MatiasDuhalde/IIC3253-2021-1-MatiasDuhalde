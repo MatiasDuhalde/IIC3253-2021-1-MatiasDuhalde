{
 "cells": [
  {
   "cell_type": "markdown",
   "metadata": {},
   "source": [
    "# Pregunta 2: RSA"
   ]
  },
  {
   "cell_type": "markdown",
   "metadata": {},
   "source": [
    "## Imports"
   ]
  },
  {
   "cell_type": "code",
   "execution_count": 25,
   "metadata": {},
   "outputs": [],
   "source": [
    "from random import randint"
   ]
  },
  {
   "cell_type": "markdown",
   "metadata": {},
   "source": [
    "## Test de primalidad de Rabin-Miller"
   ]
  },
  {
   "cell_type": "code",
   "execution_count": 26,
   "metadata": {},
   "outputs": [],
   "source": [
    "def rabin_miller(n: int, k: int) -> bool:\n",
    "    \"\"\"\n",
    "    Determines if a number is prime using Rabin-Miller primality test\n",
    "\n",
    "    Args:\n",
    "        n (int): number >= 1 to test for primality\n",
    "        k (int): number >= 1, error threshold parameter\n",
    "\n",
    "    Returns:\n",
    "        bool: True if n is prime, False otherwise (with error probability <= 2**(-k))\n",
    "    \"\"\"\n",
    "    # 1 nor even numbers are prime\n",
    "    if n == 1 or n % 2 == 0:\n",
    "        return False\n",
    "    if n == 2 or n == 3:\n",
    "        return True\n",
    "    # Get r, d such that n == 2**r*d + 1\n",
    "    r = 0\n",
    "    d = n - 1\n",
    "    while d % 2 == 0:\n",
    "        d //= 2\n",
    "        r += 1\n",
    "    assert(d%2 == 1)\n",
    "    assert(2**r*d + 1 == n)\n",
    "\n",
    "    # WitnessLoop\n",
    "    for _ in range(k):\n",
    "        a = randint(2, n - 2)\n",
    "        x = exp_mod(a, d, n)\n",
    "        if x == 1 or x == n - 1:\n",
    "            continue\n",
    "        flag = True\n",
    "        for _ in range(r - 1):\n",
    "            x = exp_mod(x, 2, n)\n",
    "            if x == n - 1:\n",
    "                flag = False\n",
    "                break\n",
    "        if flag:\n",
    "            # Number is composite\n",
    "            return False\n",
    "    # Number may be prime (with error < 2**-k)\n",
    "    return True\n",
    "\n",
    "\n",
    "def generar_primo(l: int) -> int:\n",
    "    \"\"\"\n",
    "    Generates a random prime number with at least l digits.\n",
    "\n",
    "    Args:\n",
    "        l (int): number >= 1 minimum number of digits of prime number\n",
    "\n",
    "    Returns:\n",
    "        int: Prime number with at least l digits. Error probability must be <= 2**(-100)\n",
    "    \"\"\"\n",
    "    k = 10\n",
    "    for _ in range(l):\n",
    "        k *= 10\n",
    "    low, high = k // 10, k\n",
    "    current_test = randint(low, high)\n",
    "    while not rabin_miller(current_test, 100):\n",
    "        current_test = randint(low, high)\n",
    "    return current_test\n"
   ]
  },
  {
   "cell_type": "markdown",
   "metadata": {},
   "source": [
    "## Algoritmo extendido de euclides"
   ]
  },
  {
   "cell_type": "code",
   "execution_count": 27,
   "metadata": {},
   "outputs": [],
   "source": [
    "def alg_ext_euclides(a: int, b: int) -> tuple[int, int, int]:\n",
    "    \"\"\"\n",
    "    Extended euclidean algorithm\n",
    "\n",
    "    Args:\n",
    "        a (int): number > 0\n",
    "        b (int): a >= b >=\n",
    "\n",
    "    Returns:\n",
    "        tuple[int, int, int]: (GCD(a,b), s, t) greatest common divisor GCD(a, b) of a and b, and\n",
    "            integers s and t: MCD(a, b) = s*a + t*b\n",
    "    \"\"\"\n",
    "    # 1 and 0 are always going to be the factors of the last equations\n",
    "    s_prev, t_prev, = 1, 0,\n",
    "    s, t = 0, 1\n",
    "    while b != 0:\n",
    "        q = a // b\n",
    "        a, b = b, a % b\n",
    "        if b != 0:\n",
    "            s_prev, s = s, s_prev - q * s\n",
    "            t_prev, t = t, t_prev - q * t\n",
    "    return a, s, t\n"
   ]
  },
  {
   "cell_type": "markdown",
   "metadata": {},
   "source": [
    "## Exponenciación rápida"
   ]
  },
  {
   "cell_type": "code",
   "execution_count": 28,
   "metadata": {},
   "outputs": [],
   "source": [
    "def exp_mod(a: int, b: int, n: int) -> int:\n",
    "    \"\"\"\n",
    "    Modular exponentation algorithm\n",
    "\n",
    "    Args:\n",
    "        a (int): number >= 0\n",
    "        b (int): number >= 0\n",
    "        n (int): number > 0\n",
    "\n",
    "    Returns:\n",
    "        int: a**b mod n\n",
    "    \"\"\"\n",
    "    a = a % n\n",
    "    if n == 1:\n",
    "        return 0\n",
    "    if b == 0:\n",
    "        return 1\n",
    "    if a == 0:\n",
    "        return 0\n",
    "    c = 1\n",
    "    while b > 0:\n",
    "        if ((b % 2) != 0):\n",
    "            c = (c * a) % n\n",
    "        b //= 2\n",
    "        a = (a * a) % n\n",
    "    return c\n"
   ]
  },
  {
   "cell_type": "markdown",
   "metadata": {},
   "source": [
    "## Inverso  modular"
   ]
  },
  {
   "cell_type": "code",
   "execution_count": 29,
   "metadata": {},
   "outputs": [],
   "source": [
    "def inverso(a: int, n: int) -> int:\n",
    "    \"\"\"\n",
    "    Modular inverse\n",
    "\n",
    "    Args:\n",
    "        a (int): number >= 1\n",
    "        n (int): number >= 2, relative prime of a\n",
    "\n",
    "    Returns:\n",
    "        int: modular inverse of a in mod n    \n",
    "    \"\"\"\n",
    "    x, y, _ = alg_ext_euclides(a, n)\n",
    "    if x == 1:\n",
    "        return y % n\n",
    "    return None\n"
   ]
  },
  {
   "cell_type": "markdown",
   "metadata": {},
   "source": [
    "## Generar clave "
   ]
  },
  {
   "cell_type": "code",
   "execution_count": null,
   "metadata": {},
   "outputs": [],
   "source": [
    "def generar_clave(l: int):\n",
    "    \"\"\"\n",
    "    Build a public and private key of specific length.\n",
    "\n",
    "    Args:\n",
    "        l (int): length of keys to generate\n",
    "\n",
    "    Saves private key (d, N) and public key (e, N) in private_key.txt and public_key.txt\n",
    "    respectively, with the following format:\n",
    "        d\n",
    "        N\n",
    "    \"\"\"\n"
   ]
  },
  {
   "cell_type": "markdown",
   "metadata": {},
   "source": [
    "## Encryption and decryption algorithms"
   ]
  },
  {
   "cell_type": "code",
   "execution_count": null,
   "metadata": {},
   "outputs": [],
   "source": [
    "def enc(m: int) -> int:\n",
    "    \"\"\"\n",
    "    Encrypts a message m with public key stored in public_key.txt\n",
    "\n",
    "    Args:\n",
    "        m (int): 0 <= m <= N-1, message to encrypt\n",
    "\n",
    "    Returns:\n",
    "        int: m encrypted with public key (e, N)\n",
    "    \n",
    "    \"\"\"\n",
    "\n",
    "\n",
    "def dec(m: int) -> int:\n",
    "    \"\"\"\n",
    "    Decrypts a message m with private key stored in private_key.txt\n",
    "\n",
    "    Args:\n",
    "        m (int): 0 <= m <= N-1, message to decrypt\n",
    "\n",
    "    Returns:\n",
    "        int: m decrypted with private key (d, N)\n",
    "    \n",
    "    \"\"\"\n"
   ]
  },
  {
   "cell_type": "markdown",
   "metadata": {},
   "source": [
    "## Test"
   ]
  },
  {
   "cell_type": "code",
   "execution_count": 39,
   "metadata": {},
   "outputs": [
    {
     "name": "stdout",
     "output_type": "stream",
     "text": [
      "55676745572881560400714694518492507263861652165616286969891902344934792791321378276616752212013529691794895243779449783380874351772179746571480654438067671019470772785860494788460684451552256240570394797871730938592247060197791346827473865825096502529696533314045274009989697035245297120481954466440310209476797238724112625839359692789673197242736442947637362598516655632462779924788792054220618041271432637922607110448522587845902400706027393764727572508543518184518920410314014203396586790262133515785297312022632566555927898362291238112069890975000676032101988133612543624492032833061397042916229169173969552954504324060522219393737685792476198177299731190216576499606893190134830597931300299926504290689631303778716991361205132261618185315415147011188568254746988984640179322899908667397070916228496842801713088133184725161796930606888730149394990186706267209005258973075095674049991757371673541132916408996616548017821804544418456983667518103384041693996736163863120869581921173632430078582307967\n"
     ]
    }
   ],
   "source": [
    "if __name__ == \"__main__\":\n",
    "\n",
    "    print(generar_primo(1000))"
   ]
  },
  {
   "cell_type": "code",
   "execution_count": null,
   "metadata": {},
   "outputs": [],
   "source": []
  }
 ],
 "metadata": {
  "interpreter": {
   "hash": "4e1d9a8909477db77738c33245c29c7265277ef753467dede8cf3f814cde494e"
  },
  "kernelspec": {
   "display_name": "Python 3.9.5 64-bit",
   "name": "python3"
  },
  "language_info": {
   "codemirror_mode": {
    "name": "ipython",
    "version": 3
   },
   "file_extension": ".py",
   "mimetype": "text/x-python",
   "name": "python",
   "nbconvert_exporter": "python",
   "pygments_lexer": "ipython3",
   "version": "3.9.5"
  },
  "orig_nbformat": 4
 },
 "nbformat": 4,
 "nbformat_minor": 2
}