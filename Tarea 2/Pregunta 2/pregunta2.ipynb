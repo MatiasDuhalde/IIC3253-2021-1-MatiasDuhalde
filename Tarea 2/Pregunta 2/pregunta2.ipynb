{
 "cells": [
  {
   "cell_type": "markdown",
   "metadata": {},
   "source": [
    "# Pregunta 2: RSA"
   ]
  },
  {
   "cell_type": "markdown",
   "metadata": {},
   "source": [
    "## Test de primalidad de Rabin-Miller"
   ]
  },
  {
   "cell_type": "code",
   "execution_count": 1,
   "metadata": {},
   "outputs": [],
   "source": [
    "def rabin_miller(n: int, k: int) -> bool:\n",
    "    \"\"\"\n",
    "    Determines if a number is prime using Rabin-Miller primality test\n",
    "\n",
    "    Args:\n",
    "        n (int): number >= 1 to test for primality\n",
    "        k (int): number >= 1, error threshold parameter\n",
    "\n",
    "    Returns:\n",
    "        bool: True if n is prime, False otherwise (with error probability <= 2**(-k))\n",
    "    \"\"\"\n",
    "    return True\n",
    "\n",
    "\n",
    "def generar_primo(l: int) -> int:\n",
    "    \"\"\"\n",
    "    Generates a random prime number with at least l digits.\n",
    "\n",
    "    Args:\n",
    "        l (int): number >= 1 minimum number of digits of prime number\n",
    "\n",
    "    Returns:\n",
    "        int: Prime number with at least l digits. Error probability must be <= 2**(-100)\n",
    "    \"\"\"\n",
    "    current_test = 10**l\n",
    "    while not rabin_muller(current_test, 100):\n",
    "        current_test += 1\n",
    "    return current_test\n"
   ]
  },
  {
   "cell_type": "markdown",
   "metadata": {},
   "source": [
    "## Algoritmo extendido de euclides"
   ]
  },
  {
   "cell_type": "code",
   "execution_count": 4,
   "metadata": {},
   "outputs": [],
   "source": [
    "def alg_ext_euclides(a: int, b: int) -> tuple[int, int, int]:\n",
    "    \"\"\"\n",
    "    Extended euclidean algorithm\n",
    "\n",
    "    Args:\n",
    "        a (int): number > 0\n",
    "        b (int): a >= b >=\n",
    "\n",
    "    Returns:\n",
    "        tuple[int, int, int]: (GCD(a,b), s, t) greatest common divisor GCD(a, b) of a and b, and\n",
    "            integers s and t: MCD(a, b) = s*a + t*b\n",
    "    \"\"\"\n",
    "    return 1\n"
   ]
  },
  {
   "cell_type": "markdown",
   "metadata": {},
   "source": [
    "## Exponenciación rápida"
   ]
  },
  {
   "cell_type": "code",
   "execution_count": null,
   "metadata": {},
   "outputs": [],
   "source": [
    "def exp_mod(a: int, b: int, n: int) -> int:\n",
    "    \"\"\"\n",
    "    Modular exponentation algorithm\n",
    "\n",
    "    Args:\n",
    "        a (int): number >= 0\n",
    "        b (int): number >= 0\n",
    "        n (int): number > 0\n",
    "\n",
    "    Returns:\n",
    "        int: a**b mod n\n",
    "    \"\"\"\n"
   ]
  },
  {
   "cell_type": "markdown",
   "metadata": {},
   "source": [
    "## Inverso  modular"
   ]
  },
  {
   "cell_type": "code",
   "execution_count": null,
   "metadata": {},
   "outputs": [],
   "source": [
    "def inverso(a: int, n: int) -> int:\n",
    "    \"\"\"\n",
    "    Modular inverse\n",
    "\n",
    "    Args:\n",
    "        a (int): number >= 1\n",
    "        n (int): number >= 2, relative prime of a\n",
    "\n",
    "    Returns:\n",
    "        int: modular inverse of a in mod n    \n",
    "    \"\"\"\n"
   ]
  },
  {
   "cell_type": "markdown",
   "metadata": {},
   "source": [
    "## Generar clave "
   ]
  },
  {
   "cell_type": "code",
   "execution_count": null,
   "metadata": {},
   "outputs": [],
   "source": [
    "def generar_clave(l: int):\n",
    "    \"\"\"\n",
    "    Build a public and private key of specific length.\n",
    "\n",
    "    Args:\n",
    "        l (int): length of keys to generate\n",
    "\n",
    "    Saves private key (d, N) and public key (e, N) in private_key.txt and public_key.txt\n",
    "    respectively, with the following format:\n",
    "        d\n",
    "        N\n",
    "    \"\"\"\n"
   ]
  },
  {
   "cell_type": "markdown",
   "metadata": {},
   "source": [
    "## Encryption and decryption algorithms"
   ]
  },
  {
   "cell_type": "code",
   "execution_count": null,
   "metadata": {},
   "outputs": [],
   "source": [
    "def enc(m: int) -> int:\n",
    "    \"\"\"\n",
    "    Encrypts a message m with public key stored in public_key.txt\n",
    "\n",
    "    Args:\n",
    "        m (int): 0 <= m <= N-1, message to encrypt\n",
    "\n",
    "    Returns:\n",
    "        int: m encrypted with public key (e, N)\n",
    "    \n",
    "    \"\"\"\n",
    "\n",
    "\n",
    "def dec(m: int) -> int:\n",
    "    \"\"\"\n",
    "    Decrypts a message m with private key stored in private_key.txt\n",
    "\n",
    "    Args:\n",
    "        m (int): 0 <= m <= N-1, message to decrypt\n",
    "\n",
    "    Returns:\n",
    "        int: m decrypted with private key (d, N)\n",
    "    \n",
    "    \"\"\"\n"
   ]
  }
 ],
 "metadata": {
  "interpreter": {
   "hash": "4e1d9a8909477db77738c33245c29c7265277ef753467dede8cf3f814cde494e"
  },
  "kernelspec": {
   "display_name": "Python 3.9.5 64-bit",
   "name": "python3"
  },
  "language_info": {
   "codemirror_mode": {
    "name": "ipython",
    "version": 3
   },
   "file_extension": ".py",
   "mimetype": "text/x-python",
   "name": "python",
   "nbconvert_exporter": "python",
   "pygments_lexer": "ipython3",
   "version": "3.9.5"
  },
  "orig_nbformat": 4
 },
 "nbformat": 4,
 "nbformat_minor": 2
}