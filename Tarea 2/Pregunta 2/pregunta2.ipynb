{
 "cells": [
  {
   "cell_type": "markdown",
   "metadata": {},
   "source": [
    "# Pregunta 2: RSA"
   ]
  },
  {
   "cell_type": "markdown",
   "metadata": {},
   "source": [
    "## Imports"
   ]
  },
  {
   "cell_type": "code",
   "execution_count": null,
   "metadata": {},
   "outputs": [],
   "source": [
    "from random import randint"
   ]
  },
  {
   "cell_type": "markdown",
   "metadata": {},
   "source": [
    "## Test de primalidad de Rabin-Miller"
   ]
  },
  {
   "cell_type": "code",
   "execution_count": null,
   "metadata": {},
   "outputs": [],
   "source": [
    "def rabin_miller(n: int, k: int) -> bool:\n",
    "    \"\"\"\n",
    "    Determines if a number is prime using Rabin-Miller primality test\n",
    "\n",
    "    Args:\n",
    "        n (int): number >= 1 to test for primality\n",
    "        k (int): number >= 1, error threshold parameter\n",
    "\n",
    "    Returns:\n",
    "        bool: True if n is prime, False otherwise (with error probability <= 2**(-k))\n",
    "    \"\"\"\n",
    "    # 1 nor even numbers are prime\n",
    "    if n == 1 or n % 2 == 0:\n",
    "        return False\n",
    "    if n == 2 or n == 3:\n",
    "        return True\n",
    "    # Get r, d such that n == 2**r*d + 1\n",
    "    r = 0\n",
    "    d = n - 1\n",
    "    while d % 2 == 0:\n",
    "        d //= 2\n",
    "        r += 1\n",
    "\n",
    "    # WitnessLoop\n",
    "    for _ in range(k):\n",
    "        a = randint(2, n - 2)\n",
    "        x = exp_mod(a, d, n)\n",
    "        if x == 1 or x == n - 1:\n",
    "            continue\n",
    "        flag = True\n",
    "        for _ in range(r - 1):\n",
    "            x = exp_mod(x, 2, n)\n",
    "            if x == n - 1:\n",
    "                flag = False\n",
    "                break\n",
    "        if flag:\n",
    "            # Number is composite\n",
    "            return False\n",
    "    # Number may be prime (with error < 2**-k)\n",
    "    return True\n",
    "\n",
    "\n",
    "def generar_primo(l: int) -> int:\n",
    "    \"\"\"\n",
    "    Generates a random prime number with at least l digits.\n",
    "\n",
    "    Args:\n",
    "        l (int): number >= 1 minimum number of digits of prime number\n",
    "\n",
    "    Returns:\n",
    "        int: Prime number with at least l digits. Error probability must be <= 2**(-100)\n",
    "    \"\"\"\n",
    "    k = 10\n",
    "    for _ in range(l - 1):\n",
    "        k *= 10\n",
    "    low, high = k // 10, k\n",
    "    current_test = randint(low, high)\n",
    "    while not rabin_miller(current_test, 100):\n",
    "        current_test = randint(low, high)\n",
    "    return current_test\n"
   ]
  },
  {
   "cell_type": "markdown",
   "metadata": {},
   "source": [
    "## Algoritmo extendido de euclides"
   ]
  },
  {
   "cell_type": "code",
   "execution_count": null,
   "metadata": {},
   "outputs": [],
   "source": [
    "def alg_ext_euclides(a: int, b: int) -> tuple[int, int, int]:\n",
    "    \"\"\"\n",
    "    Extended euclidean algorithm\n",
    "\n",
    "    Args:\n",
    "        a (int): number > 0\n",
    "        b (int): a >= b >=\n",
    "\n",
    "    Returns:\n",
    "        tuple[int, int, int]: (GCD(a,b), s, t) greatest common divisor GCD(a, b) of a and b, and\n",
    "            integers s and t: MCD(a, b) = s*a + t*b\n",
    "    \"\"\"\n",
    "    # 1 and 0 are always going to be the factors of the last equations\n",
    "    s_prev, t_prev, = 1, 0,\n",
    "    s, t = 0, 1\n",
    "    while b != 0:\n",
    "        q = a // b\n",
    "        a, b = b, a % b\n",
    "        if b != 0:\n",
    "            s_prev, s = s, s_prev - q * s\n",
    "            t_prev, t = t, t_prev - q * t\n",
    "    return a, s, t\n"
   ]
  },
  {
   "cell_type": "markdown",
   "metadata": {},
   "source": [
    "## Exponenciación rápida"
   ]
  },
  {
   "cell_type": "code",
   "execution_count": null,
   "metadata": {},
   "outputs": [],
   "source": [
    "def exp_mod(a: int, b: int, n: int) -> int:\n",
    "    \"\"\"\n",
    "    Modular exponentation algorithm\n",
    "\n",
    "    Args:\n",
    "        a (int): number >= 0\n",
    "        b (int): number >= 0\n",
    "        n (int): number > 0\n",
    "\n",
    "    Returns:\n",
    "        int: a**b mod n\n",
    "    \"\"\"\n",
    "    a = a % n\n",
    "    if n == 1:\n",
    "        return 0\n",
    "    if b == 0:\n",
    "        return 1\n",
    "    if a == 0:\n",
    "        return 0\n",
    "    c = 1\n",
    "    while b > 0:\n",
    "        if ((b % 2) != 0):\n",
    "            c = (c * a) % n\n",
    "        b //= 2\n",
    "        a = (a * a) % n\n",
    "    return c\n"
   ]
  },
  {
   "cell_type": "markdown",
   "metadata": {},
   "source": [
    "## Inverso  modular"
   ]
  },
  {
   "cell_type": "code",
   "execution_count": null,
   "metadata": {},
   "outputs": [],
   "source": [
    "def inverso(a: int, n: int) -> int:\n",
    "    \"\"\"\n",
    "    Modular inverse\n",
    "\n",
    "    Args:\n",
    "        a (int): number >= 1\n",
    "        n (int): number >= 2, relative prime of a\n",
    "\n",
    "    Returns:\n",
    "        int: modular inverse of a in mod n    \n",
    "    \"\"\"\n",
    "    x, y, _ = alg_ext_euclides(a, n)\n",
    "    if x == 1:\n",
    "        return y % n\n",
    "    return None\n"
   ]
  },
  {
   "cell_type": "markdown",
   "metadata": {},
   "source": [
    "## Generar clave "
   ]
  },
  {
   "cell_type": "code",
   "execution_count": null,
   "metadata": {},
   "outputs": [],
   "source": [
    "def generar_clave(l: int):\n",
    "    \"\"\"\n",
    "    Build a public and private key of specific length.\n",
    "\n",
    "    Args:\n",
    "        l (int): length of keys to generate\n",
    "\n",
    "    Saves private key (d, N) and public key (e, N) in private_key.txt and public_key.txt\n",
    "    respectively, with the following format:\n",
    "        d\n",
    "        N\n",
    "    \"\"\"\n",
    "    # Generate primes\n",
    "    p, q = generar_primo(l//2), generar_primo(l//2)\n",
    "\n",
    "    # Get n and phi(n)\n",
    "    n = p * q\n",
    "    phi_n = (p - 1) * (q - 1)\n",
    "\n",
    "    # Get e, d\n",
    "    e = randint(2, phi_n - 1)\n",
    "    mcd, _, _ = alg_ext_euclides(e, phi_n)\n",
    "    while mcd != 1:\n",
    "        e = randint(2, phi_n - 1)\n",
    "        mcd, _, _ = alg_ext_euclides(e, phi_n)\n",
    "    d = inverso(e, phi_n)\n",
    "\n",
    "    # Store keys\n",
    "    with open('public_key.txt', 'w') as key_file:\n",
    "        key_file.write(f'{e}\\n{n}\\n')\n",
    "    with open('private_key.txt', 'w') as key_file:\n",
    "        key_file.write(f'{d}\\n{n}\\n')\n",
    "    return (e, n), (d, n)\n"
   ]
  },
  {
   "cell_type": "markdown",
   "metadata": {},
   "source": [
    "## Encryption and decryption algorithms"
   ]
  },
  {
   "cell_type": "code",
   "execution_count": null,
   "metadata": {},
   "outputs": [],
   "source": [
    "def enc(m: int) -> int:\n",
    "    \"\"\"\n",
    "    Encrypts a message m with public key stored in public_key.txt\n",
    "\n",
    "    Args:\n",
    "        m (int): 0 <= m <= N-1, message to encrypt\n",
    "\n",
    "    Returns:\n",
    "        int: m encrypted with public key (e, N)\n",
    "    \"\"\"\n",
    "    # Retrieve public key\n",
    "    with open('public_key.txt', 'r') as key_file:\n",
    "        lines = key_file.readlines()\n",
    "        e, n = tuple(int(s.strip()) for s in lines)\n",
    "    return exp_mod(m, e, n)\n",
    "\n",
    "\n",
    "def dec(m: int) -> int:\n",
    "    \"\"\"\n",
    "    Decrypts a message m with private key stored in private_key.txt\n",
    "\n",
    "    Args:\n",
    "        m (int): 0 <= m <= N-1, message to decrypt\n",
    "\n",
    "    Returns:\n",
    "        int: m decrypted with private key (d, N)\n",
    "    \"\"\"\n",
    "    with open('private_key.txt', 'r') as key_file:\n",
    "        lines = key_file.readlines()\n",
    "        d, n = tuple(int(s.strip()) for s in lines)\n",
    "    return exp_mod(m, d, n)\n"
   ]
  },
  {
   "cell_type": "markdown",
   "metadata": {},
   "source": [
    "## Message to int"
   ]
  },
  {
   "cell_type": "code",
   "execution_count": null,
   "metadata": {},
   "outputs": [],
   "source": [
    "def string_to_int(string_):\n",
    "    \"\"\"\n",
    "    Transform an ASCII string into its numeric representation\n",
    "\n",
    "    Args:\n",
    "        string_ (str): an ASCII string to transform\n",
    "    \n",
    "    Returns:\n",
    "        int: numeric representation of string_\n",
    "\n",
    "    \"\"\"\n",
    "    n = 0\n",
    "    for i, char in enumerate(string_):\n",
    "        n += ord(char) << (i*7)\n",
    "    return n\n",
    "\n",
    "def int_to_string(n):\n",
    "    \"\"\"\n",
    "    string_to_int inverse process\n",
    "    \"\"\"\n",
    "    string_ = \"\"\n",
    "    while n > 0:\n",
    "        string_ += chr(n & 0x7f)\n",
    "        n >>= 7\n",
    "    return string_"
   ]
  },
  {
   "cell_type": "markdown",
   "metadata": {},
   "source": [
    "## Tests"
   ]
  },
  {
   "cell_type": "markdown",
   "metadata": {},
   "source": [
    "### Generate key"
   ]
  },
  {
   "cell_type": "code",
   "execution_count": null,
   "metadata": {},
   "outputs": [],
   "source": [
    "if __name__ == \"__main__\":\n",
    "    generar_clave(200)"
   ]
  },
  {
   "cell_type": "markdown",
   "metadata": {},
   "source": [
    "### Encrypt and decrypt message"
   ]
  },
  {
   "cell_type": "code",
   "execution_count": null,
   "metadata": {},
   "outputs": [],
   "source": [
    "if __name__ == \"__main__\":\n",
    "    message = \"Hello World!\"\n",
    "    cod_m = string_to_int(message)\n",
    "    print(\"Message_length:\", len(str(cod_m)))\n",
    "    encrypted = enc(cod_m)\n",
    "    decrypted = dec(encrypted)\n",
    "\n",
    "    dec_message = int_to_string(decrypted)\n",
    "    print(dec_message)\n",
    "    assert(dec_message == message)"
   ]
  },
  {
   "cell_type": "code",
   "execution_count": null,
   "metadata": {},
   "outputs": [],
   "source": []
  }
 ],
 "metadata": {
  "interpreter": {
   "hash": "4e1d9a8909477db77738c33245c29c7265277ef753467dede8cf3f814cde494e"
  },
  "kernelspec": {
   "display_name": "Python 3.9.5 64-bit",
   "name": "python3"
  },
  "language_info": {
   "codemirror_mode": {
    "name": "ipython",
    "version": 3
   },
   "file_extension": ".py",
   "mimetype": "text/x-python",
   "name": "python",
   "nbconvert_exporter": "python",
   "pygments_lexer": "ipython3",
   "version": "3.9.5"
  },
  "orig_nbformat": 4
 },
 "nbformat": 4,
 "nbformat_minor": 2
}